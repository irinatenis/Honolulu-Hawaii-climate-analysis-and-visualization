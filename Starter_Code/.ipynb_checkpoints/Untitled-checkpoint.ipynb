{
 "cells": [
  {
   "cell_type": "code",
   "execution_count": 3,
   "id": "913425e7-ef79-4514-9f9e-54f280c9574c",
   "metadata": {},
   "outputs": [],
   "source": [
    "# Import the dependencies.\n",
    "\n",
    "import numpy as np\n",
    "\n",
    "import sqlalchemy\n",
    "from sqlalchemy.ext.automap import automap_base\n",
    "from sqlalchemy.orm import Session\n",
    "from sqlalchemy import create_engine, func\n",
    "import os\n",
    "from flask import Flask, jsonify\n",
    "import datetime as dt\n"
   ]
  },
  {
   "cell_type": "code",
   "execution_count": 4,
   "id": "c9243e1c-6fc0-44b1-800a-197db923be43",
   "metadata": {},
   "outputs": [
    {
     "name": "stdout",
     "output_type": "stream",
     "text": [
      "Engine(sqlite:///Resources/hawaii.sqlite)\n"
     ]
    }
   ],
   "source": [
    "#################################################\n",
    "# Database Setup\n",
    "#################################################\n",
    "\n",
    "engine = create_engine(\"sqlite:///Resources/hawaii.sqlite\")\n",
    "print(engine) \n",
    "# reflect an existing database into a new model\n",
    "Base = automap_base()\n",
    "# reflect the tables\n",
    "Base.prepare(autoload_with=engine)\n",
    "# m = Table(\"measurement\", metadata_obj, autoload_with=engine)\n",
    "# m"
   ]
  },
  {
   "cell_type": "code",
   "execution_count": 5,
   "id": "460dc688-8800-4dc9-85da-3cae1a91e004",
   "metadata": {},
   "outputs": [],
   "source": [
    "# Save references to each table\n",
    "Base.classes.keys()\n",
    "Measurement = Base.classes.measurement\n",
    "Station=Base.classes.station\n"
   ]
  },
  {
   "cell_type": "code",
   "execution_count": 6,
   "id": "065c4756-5a7b-4285-a877-6f19ff7b2679",
   "metadata": {},
   "outputs": [],
   "source": [
    "#Create our session (link) from Python to the DB\n",
    "session = Session(engine)"
   ]
  },
  {
   "cell_type": "code",
   "execution_count": 7,
   "id": "defd0ba7-aebd-4601-8c4b-6368a59b5e31",
   "metadata": {},
   "outputs": [],
   "source": [
    "\n",
    "#################################################\n",
    "# Flask Setup\n",
    "#################################################\n",
    "app = Flask(__name__)\n",
    "\n",
    "#################################################\n",
    "# Flask Routes\n",
    "#################################################\n",
    "@app.route(\"/\")\n",
    "def welcome():\n",
    "    \n",
    "    \"\"\"List all available api routes.\"\"\"\n",
    "    \n",
    "    return (\n",
    "        f\"Available Routes:\"\n",
    "        f\"/api/v1.0/precipitation<br/>\"\n",
    "        f\"/api/v1.0/stations\"\n",
    "        f\"/api/v1.0/tobs\"\n",
    "        f\"/api/v1.0/<start>\"\n",
    "        f\"/api/v1.0/<start>/<end>\"\n",
    "    )\n"
   ]
  },
  {
   "cell_type": "code",
   "execution_count": null,
   "id": "f8d7b125-f446-45b3-a65b-9fc5d7e9c959",
   "metadata": {},
   "outputs": [
    {
     "name": "stdout",
     "output_type": "stream",
     "text": [
      " * Serving Flask app \"__main__\" (lazy loading)\n",
      " * Environment: production\n",
      "\u001b[31m   WARNING: This is a development server. Do not use it in a production deployment.\u001b[0m\n",
      "\u001b[2m   Use a production WSGI server instead.\u001b[0m\n",
      " * Debug mode: off\n"
     ]
    },
    {
     "name": "stderr",
     "output_type": "stream",
     "text": [
      " * Running on http://127.0.0.1:5000/ (Press CTRL+C to quit)\n"
     ]
    }
   ],
   "source": [
    "#Convert the query results from your precipitation analysis (i.e. retrieve only the last 12 months of data) to a dictionary using date as the key and prcp as the value.\n",
    "#Return the JSON representation of your dictionary.\n",
    "@app.route(\"/api/v1.0/precipitation\")\n",
    "def precipitation():\n",
    "# Create our session (link) from Python to the DB\n",
    "    session = Session(engine)\n",
    "\n",
    "    \"\"\"Return last year precipitation analysis\"\"\"\n",
    "# Query last year precipitation\n",
    "    results = session.query(Measurement.prcp, Measurement.date).\\\n",
    "    filter(Measurement.date<= dt.date(2017,8,23),Measurement.date>=dt.date(2016, 8, 23)).all()\n",
    "    print(results)\n",
    "    session.close()\n",
    "    last_year_precipitation = []\n",
    "    for prcp,date in results:\n",
    "        precipitation_dict = {}\n",
    "        precipitation_dict[\"precipitation\"] = prcp\n",
    "        precipitation_dict[\"date\"] = date\n",
    "        last_year_precipitation.append(precipitation_dict)\n",
    "\n",
    "    return jsonify(last_year_precipitation)\n",
    "\n",
    "if __name__ == '__main__':\n",
    "    app.run(debug=False)"
   ]
  },
  {
   "cell_type": "code",
   "execution_count": null,
   "id": "36fdef75-af36-4757-a504-6466f69131d7",
   "metadata": {},
   "outputs": [],
   "source": []
  }
 ],
 "metadata": {
  "kernelspec": {
   "display_name": "Python 3 (ipykernel)",
   "language": "python",
   "name": "python3"
  },
  "language_info": {
   "codemirror_mode": {
    "name": "ipython",
    "version": 3
   },
   "file_extension": ".py",
   "mimetype": "text/x-python",
   "name": "python",
   "nbconvert_exporter": "python",
   "pygments_lexer": "ipython3",
   "version": "3.9.13"
  }
 },
 "nbformat": 4,
 "nbformat_minor": 5
}
